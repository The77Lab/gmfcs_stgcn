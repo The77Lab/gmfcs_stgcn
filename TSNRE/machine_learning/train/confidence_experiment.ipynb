{
 "cells": [
  {
   "cell_type": "code",
   "execution_count": 34,
   "metadata": {},
   "outputs": [],
   "source": [
    "from tqdm import tqdm\n",
    "import json\n",
    "import copy"
   ]
  },
  {
   "cell_type": "code",
   "execution_count": 51,
   "metadata": {},
   "outputs": [],
   "source": [
    "import numpy as np\n",
    "\n",
    "# load the variables\n",
    "load_file = 'embeddings.npy'\n",
    "save_dict = np.load(load_file, allow_pickle=True).item()\n",
    "\n",
    "embedding_dict = save_dict['training_embedding_dict']\n",
    "label_dict = save_dict['training_label_dict']\n",
    "all_embeddings = save_dict['all_embeddings']\n",
    "all_labels = save_dict['all_labels']\n",
    "centers = save_dict['centers']\n",
    "test_embedding_dict = save_dict['test_embedding_dict']\n",
    "test_label_dict = save_dict['test_label_dict']\n"
   ]
  },
  {
   "cell_type": "code",
   "execution_count": 5,
   "metadata": {},
   "outputs": [],
   "source": [
    "def calculate_distance(test_embedding, support_embedding, method):\n",
    "    if method == 'euclidean':\n",
    "        return np.linalg.norm(test_embedding - support_embedding)\n",
    "    elif method == 'cosine':\n",
    "        return 1 - np.dot(test_embedding, support_embedding) / (np.linalg.norm(test_embedding) * np.linalg.norm(support_embedding))\n",
    "    else:\n",
    "        raise ValueError('Not Implemented')"
   ]
  },
  {
   "cell_type": "code",
   "execution_count": 6,
   "metadata": {},
   "outputs": [],
   "source": [
    "def get_support_embedding_indices(test_embedding, all_training_embeddings):\n",
    "    # calculae all distances\n",
    "    distances = []\n",
    "    for i in range(len(all_training_embeddings)):\n",
    "        distances.append(calculate_distance(test_embedding, all_training_embeddings[i], 'euclidean'))\n",
    "    # get the indices of the k nearest neighbors, k = method['k']\n",
    "    indices = np.argsort(distances)[:20]\n",
    "    return indices"
   ]
  },
  {
   "cell_type": "code",
   "execution_count": 13,
   "metadata": {},
   "outputs": [],
   "source": [
    "def is_ood(test_embedding, support_indices, threshold):\n",
    "    if len(support_indices) == 0:\n",
    "        return True\n",
    "    # get all distances\n",
    "    distances = []\n",
    "    for i in support_indices:\n",
    "        distances.append(calculate_distance(test_embedding, all_embeddings[i], 'euclidean'))\n",
    "    # get the smallest distance\n",
    "    min_distance = min(distances)\n",
    "    if min_distance > threshold:\n",
    "        return True\n",
    "    return False"
   ]
  },
  {
   "cell_type": "code",
   "execution_count": 8,
   "metadata": {},
   "outputs": [],
   "source": [
    "def get_sample_confidence(label_probs):\n",
    "    return max(label_probs)"
   ]
  },
  {
   "cell_type": "code",
   "execution_count": 9,
   "metadata": {},
   "outputs": [],
   "source": [
    "def get_sample_label_probs(test_embedding, support_indices):\n",
    "    # get distance and corresponding label\n",
    "    distances = []\n",
    "    labels = []\n",
    "    for i in support_indices:\n",
    "        distances.append(calculate_distance(test_embedding, all_embeddings[i], 'euclidean'))\n",
    "        labels.append(all_labels[i])\n",
    "    label_probs = [0 for _ in range(4)]\n",
    "    # there are 4 labels, 0, 1, 2, 3. calculate the mean distance of each label. \n",
    "    sum_distances = [0 for _ in range(4)]\n",
    "    num_distances = [0 for _ in range(4)]\n",
    "    for i in range(len(distances)):\n",
    "        sum_distances[labels[i]] += distances[i]\n",
    "        num_distances[labels[i]] += 1\n",
    "    for i in range(4):\n",
    "        if num_distances[i] != 0:\n",
    "            label_probs[i] = 1 / (sum_distances[i] / num_distances[i])\n",
    "    return label_probs\n",
    "\n",
    "\n"
   ]
  },
  {
   "cell_type": "code",
   "execution_count": 10,
   "metadata": {},
   "outputs": [],
   "source": [
    "def prob_normalization(label_probs):\n",
    "    label_probs = np.exp(label_probs)\n",
    "    label_probs /= np.sum(label_probs)\n",
    "    return label_probs"
   ]
  },
  {
   "cell_type": "code",
   "execution_count": null,
   "metadata": {},
   "outputs": [],
   "source": []
  },
  {
   "cell_type": "code",
   "execution_count": 40,
   "metadata": {},
   "outputs": [],
   "source": [
    "def get_video_label_confidence(sample_results):\n",
    "    label_confidences = np.sum(sample_results, axis=0)\n",
    "    # normalize the confidence\n",
    "    label_confidences = np.array(label_confidences)\n",
    "    label_confidences /= np.sum(label_confidences)\n",
    "    # get the video label\n",
    "    video_label = np.argmax(label_confidences)\n",
    "    label_confidence = label_confidences[video_label]\n",
    "    \n",
    "    return video_label, label_confidence\n",
    "    \n",
    "\n"
   ]
  },
  {
   "cell_type": "code",
   "execution_count": 42,
   "metadata": {},
   "outputs": [],
   "source": [
    "\n",
    "results = {}\n",
    "for video in tqdm(test_embedding_dict):\n",
    "    results = {}\n",
    "    test_embeddings = test_embedding_dict[video]\n",
    "    sample_results = []\n",
    "    sample_confidences = []\n",
    "    for test_embedding in test_embeddings:\n",
    "        support_indices = get_support_embedding_indices(test_embedding, all_embeddings)\n",
    "        label_probs = get_sample_label_probs(test_embedding, support_indices, )\n",
    "        label_probs = prob_normalization(label_probs)\n",
    "        sample_confidences.append(get_sample_confidence(label_probs))\n",
    "        sample_results.append(label_probs)\n",
    "    sample_results = np.array(sample_results)\n",
    "    sample_confidences = np.array(sample_confidences)\n",
    "    video_label, video_confidence = get_video_label_confidence(sample_results)\n",
    "    results['confidence'] = video_confidence\n",
    "    results['label'] = video_label"
   ]
  },
  {
   "cell_type": "markdown",
   "metadata": {},
   "source": []
  }
 ],
 "metadata": {
  "kernelspec": {
   "display_name": "openmmlab",
   "language": "python",
   "name": "python3"
  },
  "language_info": {
   "codemirror_mode": {
    "name": "ipython",
    "version": 3
   },
   "file_extension": ".py",
   "mimetype": "text/x-python",
   "name": "python",
   "nbconvert_exporter": "python",
   "pygments_lexer": "ipython3",
   "version": "3.8.16"
  }
 },
 "nbformat": 4,
 "nbformat_minor": 2
}
